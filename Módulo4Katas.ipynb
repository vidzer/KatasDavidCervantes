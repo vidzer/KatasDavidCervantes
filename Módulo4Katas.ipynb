{
  "cells": [
    {
      "cell_type": "markdown",
      "metadata": {},
      "source": [
        "# Ejercicio 1: Transformar cadenas\n",
        "Hay varias operaciones que puedes realizar en las cadenas cuando las manipulamos. En este ejercicio, usarás métodos de cadena para modificar el texto con hechos sobre la Luna y luego extraerás información para crear un breve resumen.\n",
        "\n",
        "> **Nota**\n",
        "> Dedica unos minutos a tratar de encontrar una solución. Luego desplázate hacia abajo hasta la parte inferior para ver si has logrado compilar el programa de acuerdo con las especificaciones."
      ]
    },
    {
      "cell_type": "markdown",
      "metadata": {},
      "source": [
        "El texto con el que trabajarás es el siguiente: "
      ]
    },
    {
      "cell_type": "code",
      "execution_count": null,
      "metadata": {},
      "outputs": [],
      "source": [
        "text = \"\"\"Interesting facts about the Moon. The Moon is Earth's only satellite. There are several interesting facts about the Moon and how it affects life here on Earth. \n",
        "On average, the Moon moves 4cm away from the Earth every year. This yearly drift is not significant enough to cause immediate effects on Earth. The highest daylight temperature of the Moon is 127 C.\"\"\""
      ]
    },
    {
      "cell_type": "markdown",
      "metadata": {},
      "source": [
        "Primero, divide el texto en cada oración para trabajar con su contenido:"
      ]
    },
    {
      "cell_type": "code",
      "execution_count": null,
      "metadata": {},
      "outputs": [
        {
          "data": {
            "text/plain": [
              "['Interesting facts about the Moon',\n",
              " \"The Moon is Earth's only satellite\",\n",
              " 'There are several interesting facts about the Moon and how it affects life here on Earth',\n",
              " '\\nOn average, the Moon moves 4cm away from the Earth every year',\n",
              " 'This yearly drift is not significant enough to cause immediate effects on Earth',\n",
              " 'The highest daylight temperature of the Moon is 127 C.']"
            ]
          },
          "execution_count": 4,
          "metadata": {},
          "output_type": "execute_result"
        }
      ],
      "source": [
        "text = \"\"\"Interesting facts about the Moon. The Moon is Earth's only satellite. There are several interesting facts about the Moon and how it affects life here on Earth. \n",
        "On average, the Moon moves 4cm away from the Earth every year. This yearly drift is not significant enough to cause immediate effects on Earth. The highest daylight temperature of the Moon is 127 C.\"\"\"\n",
        "text_partes = text.split('. ')\n",
        "text_partes\n",
        "# Añade el código necesario"
      ]
    },
    {
      "cell_type": "markdown",
      "metadata": {},
      "source": [
        "Ahora, define algunas palabras clave para búsqueda que te ayudarán a determinar si una oración contiene un hecho."
      ]
    },
    {
      "cell_type": "code",
      "execution_count": null,
      "metadata": {},
      "outputs": [],
      "source": [
        "key_words = [\"average\", \"temperature\", \"distance suenan bien\"]\n",
        "# Define las palabras pista: average, temperature y distance suenan bien"
      ]
    },
    {
      "cell_type": "markdown",
      "metadata": {},
      "source": [
        "Cre un bucle para imprimir solo datos sobre la Luna que estén relacionados con las palabras clave definidas anteriormente:"
      ]
    },
    {
      "cell_type": "code",
      "execution_count": null,
      "metadata": {},
      "outputs": [
        {
          "name": "stdout",
          "output_type": "stream",
          "text": [
            "average\n",
            "temperature\n",
            "distance suenan bien\n"
          ]
        }
      ],
      "source": [
        "key_words = [\"average\", \"temperature\", \"distance suenan bien\"]\n",
        "for i in key_words:\n",
        "    if i == [\"average\", \"temperature\", \"distance suenan bien\"]:\n",
        "        break\n",
        "    print(i)\n",
        "\n",
        "# Ciclo for para recorrer la cadena"
      ]
    },
    {
      "cell_type": "markdown",
      "metadata": {},
      "source": [
        "Finalmente, actualiza el bucle(ciclo) para cambiar _C_ a _Celsius_:"
      ]
    },
    {
      "cell_type": "code",
      "execution_count": null,
      "metadata": {},
      "outputs": [
        {
          "ename": "NameError",
          "evalue": "name 'text_parts' is not defined",
          "output_type": "error",
          "traceback": [
            "\u001b[1;31m---------------------------------------------------------------------------\u001b[0m",
            "\u001b[1;31mNameError\u001b[0m                                 Traceback (most recent call last)",
            "\u001b[1;32mc:\\Users\\vidze\\Desktop\\CursoIntroPython-main\\katasmias\\Módulo4Katas.ipynb Cell 11'\u001b[0m in \u001b[0;36m<module>\u001b[1;34m\u001b[0m\n\u001b[1;32m----> <a href='vscode-notebook-cell:/c%3A/Users/vidze/Desktop/CursoIntroPython-main/katasmias/M%C3%B3dulo4Katas.ipynb#ch0000010?line=0'>1</a>\u001b[0m \u001b[39mfor\u001b[39;00m sentence \u001b[39min\u001b[39;00m text_parts:\n\u001b[0;32m      <a href='vscode-notebook-cell:/c%3A/Users/vidze/Desktop/CursoIntroPython-main/katasmias/M%C3%B3dulo4Katas.ipynb#ch0000010?line=1'>2</a>\u001b[0m  \u001b[39mfor\u001b[39;00m key_word \u001b[39min\u001b[39;00m key_words:\n\u001b[0;32m      <a href='vscode-notebook-cell:/c%3A/Users/vidze/Desktop/CursoIntroPython-main/katasmias/M%C3%B3dulo4Katas.ipynb#ch0000010?line=2'>3</a>\u001b[0m   \u001b[39mif\u001b[39;00m key_word \u001b[39min\u001b[39;00m sentence:\n",
            "\u001b[1;31mNameError\u001b[0m: name 'text_parts' is not defined"
          ]
        }
      ],
      "source": [
        "for sentence in text_parts:\n",
        " for key_word in key_words:\n",
        "  if key_word in sentence:\n",
        "   print(sentence.replace(' C', ' Celsius'))\n",
        "\n",
        "# Ciclo para cambiar C a Celsius\n"
      ]
    },
    {
      "cell_type": "markdown",
      "metadata": {},
      "source": [
        "> Recuerda: Lo importante es intentarlo, puedes auxiliarte de internet, libros, etc. El objetivo de una kata es la comprobación de la comprensión de la lección y su aplicación inmediata a la resolución de problemas. Go for it!"
      ]
    },
    {
      "cell_type": "markdown",
      "metadata": {},
      "source": [
        "# Ejercicio 2: Formateando Cadenas\n",
        "\n",
        "Saber cómo dar formato a las cadenas es esencial cuando se presenta información de un programa. Hay algunas maneras diferentes de lograr esto en Python. En este ejercicio, se utilizan variables que contienen datos clave sobre la gravedad en varias lunas y luego se utilizan para dar formato e imprimir la información.\n",
        "\n",
        "El formato tiene que acomodar información sobre otras lunas, por lo que debe ser genérico.\n",
        "\n",
        "En lugar de reemplazar las variables en una cadena larga como parte de un párrafo, utiliza la información para presentarla en un formato tabular. El resultado debería verse así:\n",
        "\n",
        "```\n",
        "Gravity Facts about Ganymede\n",
        "-------------------------------------------------------------------------------\n",
        "Planet Name: Mars\n",
        "Gravity on Ganymede: 1.4300000000000002 m/s2\n",
        "```"
      ]
    },
    {
      "cell_type": "code",
      "execution_count": null,
      "metadata": {},
      "outputs": [],
      "source": [
        "# Datos con los que vas a trabajar\n",
        "name = \"Gravity Facts about Ganymede\"\n",
        "gravity = 1.4300000000000002 # in m/s2\n",
        "planet = \"Mars\""
      ]
    },
    {
      "cell_type": "markdown",
      "metadata": {},
      "source": [
        "Primero, crea un título para el texto. Debido a que este texto trata sobre la gravedad en la Tierra y la Luna, úsalo para crear un título significativo. Utiliza las variables en lugar de escribir."
      ]
    },
    {
      "cell_type": "code",
      "execution_count": null,
      "metadata": {},
      "outputs": [
        {
          "name": "stdout",
          "output_type": "stream",
          "text": [
            "datos de gravedad sobre la tierra y la Luna\n"
          ]
        }
      ],
      "source": [
        "nombre= 'la tierra y la Luna'\n",
        "title = f'datos de la gravedad {nombre}'\n",
        "print (title)\n",
        "# Creamos el título"
      ]
    },
    {
      "cell_type": "markdown",
      "metadata": {},
      "source": [
        "Ahora crea una plantilla de cadena multilínea para contener el resto de la información. En lugar de usar kilómetros, debes convertir la distancia a metros multiplicando por 1,000."
      ]
    },
    {
      "cell_type": "code",
      "execution_count": null,
      "metadata": {},
      "outputs": [
        {
          "ename": "NameError",
          "evalue": "name 'planeta' is not defined",
          "output_type": "error",
          "traceback": [
            "\u001b[1;31m---------------------------------------------------------------------------\u001b[0m",
            "\u001b[1;31mNameError\u001b[0m                                 Traceback (most recent call last)",
            "\u001b[1;32mc:\\Users\\vidze\\Desktop\\CursoIntroPython-main\\katasmias\\Módulo4Katas.ipynb Cell 18'\u001b[0m in \u001b[0;36m<module>\u001b[1;34m\u001b[0m\n\u001b[0;32m      <a href='vscode-notebook-cell:/c%3A/Users/vidze/Desktop/CursoIntroPython-main/katasmias/M%C3%B3dulo4Katas.ipynb#ch0000017?line=0'>1</a>\u001b[0m nombre\u001b[39m=\u001b[39m \u001b[39m'\u001b[39m\u001b[39mTierra\u001b[39m\u001b[39m'\u001b[39m\n\u001b[0;32m      <a href='vscode-notebook-cell:/c%3A/Users/vidze/Desktop/CursoIntroPython-main/katasmias/M%C3%B3dulo4Katas.ipynb#ch0000017?line=1'>2</a>\u001b[0m title \u001b[39m=\u001b[39m \u001b[39mf\u001b[39m\u001b[39m'\u001b[39m\u001b[39mdatos de la gravedad \u001b[39m\u001b[39m{\u001b[39;00mnombre\u001b[39m}\u001b[39;00m\u001b[39m'\u001b[39m\n\u001b[0;32m      <a href='vscode-notebook-cell:/c%3A/Users/vidze/Desktop/CursoIntroPython-main/katasmias/M%C3%B3dulo4Katas.ipynb#ch0000017?line=2'>3</a>\u001b[0m hechos \u001b[39m=\u001b[39m \u001b[39mf\u001b[39m\u001b[39m\"\"\"\u001b[39m\u001b[39m{\u001b[39;00m\u001b[39m'\u001b[39m\u001b[39m-\u001b[39m\u001b[39m'\u001b[39m\u001b[39m*\u001b[39m\u001b[39m80\u001b[39m\u001b[39m}\u001b[39;00m\u001b[39m \u001b[39m\n\u001b[1;32m----> <a href='vscode-notebook-cell:/c%3A/Users/vidze/Desktop/CursoIntroPython-main/katasmias/M%C3%B3dulo4Katas.ipynb#ch0000017?line=3'>4</a>\u001b[0m \u001b[39mNombre del planeta: \u001b[39m\u001b[39m{\u001b[39;00mplaneta\u001b[39m}\u001b[39;00m\u001b[39m \u001b[39m\n\u001b[0;32m      <a href='vscode-notebook-cell:/c%3A/Users/vidze/Desktop/CursoIntroPython-main/katasmias/M%C3%B3dulo4Katas.ipynb#ch0000017?line=4'>5</a>\u001b[0m \u001b[39mGravedad en \u001b[39m\u001b[39m{\u001b[39;00mnombre\u001b[39m}\u001b[39;00m\u001b[39m: \u001b[39m\u001b[39m{\u001b[39;00mgravedad \u001b[39m*\u001b[39m \u001b[39m1000\u001b[39m\u001b[39m}\u001b[39;00m\u001b[39m m/s2 \u001b[39m\n\u001b[0;32m      <a href='vscode-notebook-cell:/c%3A/Users/vidze/Desktop/CursoIntroPython-main/katasmias/M%C3%B3dulo4Katas.ipynb#ch0000017?line=5'>6</a>\u001b[0m \u001b[39m\"\"\"\u001b[39m\n",
            "\u001b[1;31mNameError\u001b[0m: name 'planeta' is not defined"
          ]
        }
      ],
      "source": [
        "nombre= 'Tierra'\n",
        "title = f'datos de la gravedad {nombre}'\n",
        "hechos = f\"\"\"{'-'*80} \n",
        "Nombre del planeta: {planeta} \n",
        "Gravedad en {nombre}: {gravedad * 1000} m/s2 \n",
        "\"\"\"\n",
        "# Creamos la plantilla"
      ]
    },
    {
      "cell_type": "markdown",
      "metadata": {},
      "source": [
        "Finalmente, usa ambas variables para unir el título y los hechos."
      ]
    },
    {
      "cell_type": "code",
      "execution_count": 31,
      "metadata": {},
      "outputs": [
        {
          "name": "stderr",
          "output_type": "stream",
          "text": [
            "Traceback (most recent call last):\n",
            "  File \"_pydevd_bundle/pydevd_cython.pyx\", line 1078, in _pydevd_bundle.pydevd_cython.PyDBFrame.trace_dispatch\n",
            "  File \"_pydevd_bundle/pydevd_cython.pyx\", line 297, in _pydevd_bundle.pydevd_cython.PyDBFrame.do_wait_suspend\n",
            "  File \"C:\\Python39\\lib\\site-packages\\debugpy\\_vendored\\pydevd\\pydevd.py\", line 1976, in do_wait_suspend\n",
            "    keep_suspended = self._do_wait_suspend(thread, frame, event, arg, suspend_type, from_this_thread, frames_tracker)\n",
            "  File \"C:\\Python39\\lib\\site-packages\\debugpy\\_vendored\\pydevd\\pydevd.py\", line 2011, in _do_wait_suspend\n",
            "    time.sleep(0.01)\n",
            "KeyboardInterrupt\n"
          ]
        },
        {
          "ename": "KeyboardInterrupt",
          "evalue": "",
          "output_type": "error",
          "traceback": [
            "\u001b[1;31m---------------------------------------------------------------------------\u001b[0m",
            "\u001b[1;31mKeyboardInterrupt\u001b[0m                         Traceback (most recent call last)",
            "\u001b[1;32mc:\\Users\\vidze\\Desktop\\CursoIntroPython-main\\katasmias\\Módulo4Katas.ipynb Cell 20'\u001b[0m in \u001b[0;36m<module>\u001b[1;34m\u001b[0m\n\u001b[1;32m----> <a href='vscode-notebook-cell:/c%3A/Users/vidze/Desktop/CursoIntroPython-main/katasmias/M%C3%B3dulo4Katas.ipynb#ch0000019?line=0'>1</a>\u001b[0m new_template \u001b[39m=\u001b[39m \u001b[39m\"\"\"\u001b[39m\n\u001b[0;32m      <a href='vscode-notebook-cell:/c%3A/Users/vidze/Desktop/CursoIntroPython-main/katasmias/M%C3%B3dulo4Katas.ipynb#ch0000019?line=1'>2</a>\u001b[0m \u001b[39mDatos de Gravedad sobre: \u001b[39m\u001b[39m{nombre}\u001b[39;00m\n\u001b[0;32m      <a href='vscode-notebook-cell:/c%3A/Users/vidze/Desktop/CursoIntroPython-main/katasmias/M%C3%B3dulo4Katas.ipynb#ch0000019?line=2'>3</a>\u001b[0m \u001b[39m-------------------------------------------------------------------------------\u001b[39m\n\u001b[0;32m      <a href='vscode-notebook-cell:/c%3A/Users/vidze/Desktop/CursoIntroPython-main/katasmias/M%C3%B3dulo4Katas.ipynb#ch0000019?line=3'>4</a>\u001b[0m \u001b[39mNombre del planeta: \u001b[39m\u001b[39m{planeta}\u001b[39;00m\n\u001b[0;32m      <a href='vscode-notebook-cell:/c%3A/Users/vidze/Desktop/CursoIntroPython-main/katasmias/M%C3%B3dulo4Katas.ipynb#ch0000019?line=4'>5</a>\u001b[0m \u001b[39mGravedad en \u001b[39m\u001b[39m{nombre}\u001b[39;00m\u001b[39m: \u001b[39m\u001b[39m{gravedad}\u001b[39;00m\u001b[39m m/s2\u001b[39m\n\u001b[0;32m      <a href='vscode-notebook-cell:/c%3A/Users/vidze/Desktop/CursoIntroPython-main/katasmias/M%C3%B3dulo4Katas.ipynb#ch0000019?line=5'>6</a>\u001b[0m \u001b[39m\"\"\"\u001b[39m\n\u001b[0;32m      <a href='vscode-notebook-cell:/c%3A/Users/vidze/Desktop/CursoIntroPython-main/katasmias/M%C3%B3dulo4Katas.ipynb#ch0000019?line=6'>7</a>\u001b[0m \u001b[39mprint\u001b[39m(new_template\u001b[39m.\u001b[39mformat(nombre\u001b[39m=\u001b[39mnombre, planeta\u001b[39m=\u001b[39mplaneta, gravedad\u001b[39m=\u001b[39mgravedad))\n",
            "\u001b[1;32mc:\\Users\\vidze\\Desktop\\CursoIntroPython-main\\katasmias\\Módulo4Katas.ipynb Cell 20'\u001b[0m in \u001b[0;36m<module>\u001b[1;34m\u001b[0m\n\u001b[1;32m----> <a href='vscode-notebook-cell:/c%3A/Users/vidze/Desktop/CursoIntroPython-main/katasmias/M%C3%B3dulo4Katas.ipynb#ch0000019?line=0'>1</a>\u001b[0m new_template \u001b[39m=\u001b[39m \u001b[39m\"\"\"\u001b[39m\n\u001b[0;32m      <a href='vscode-notebook-cell:/c%3A/Users/vidze/Desktop/CursoIntroPython-main/katasmias/M%C3%B3dulo4Katas.ipynb#ch0000019?line=1'>2</a>\u001b[0m \u001b[39mDatos de Gravedad sobre: \u001b[39m\u001b[39m{nombre}\u001b[39;00m\n\u001b[0;32m      <a href='vscode-notebook-cell:/c%3A/Users/vidze/Desktop/CursoIntroPython-main/katasmias/M%C3%B3dulo4Katas.ipynb#ch0000019?line=2'>3</a>\u001b[0m \u001b[39m-------------------------------------------------------------------------------\u001b[39m\n\u001b[0;32m      <a href='vscode-notebook-cell:/c%3A/Users/vidze/Desktop/CursoIntroPython-main/katasmias/M%C3%B3dulo4Katas.ipynb#ch0000019?line=3'>4</a>\u001b[0m \u001b[39mNombre del planeta: \u001b[39m\u001b[39m{planeta}\u001b[39;00m\n\u001b[0;32m      <a href='vscode-notebook-cell:/c%3A/Users/vidze/Desktop/CursoIntroPython-main/katasmias/M%C3%B3dulo4Katas.ipynb#ch0000019?line=4'>5</a>\u001b[0m \u001b[39mGravedad en \u001b[39m\u001b[39m{nombre}\u001b[39;00m\u001b[39m: \u001b[39m\u001b[39m{gravedad}\u001b[39;00m\u001b[39m m/s2\u001b[39m\n\u001b[0;32m      <a href='vscode-notebook-cell:/c%3A/Users/vidze/Desktop/CursoIntroPython-main/katasmias/M%C3%B3dulo4Katas.ipynb#ch0000019?line=5'>6</a>\u001b[0m \u001b[39m\"\"\"\u001b[39m\n\u001b[0;32m      <a href='vscode-notebook-cell:/c%3A/Users/vidze/Desktop/CursoIntroPython-main/katasmias/M%C3%B3dulo4Katas.ipynb#ch0000019?line=6'>7</a>\u001b[0m \u001b[39mprint\u001b[39m(new_template\u001b[39m.\u001b[39mformat(nombre\u001b[39m=\u001b[39mnombre, planeta\u001b[39m=\u001b[39mplaneta, gravedad\u001b[39m=\u001b[39mgravedad))\n",
            "File \u001b[1;32m_pydevd_bundle/pydevd_cython.pyx:1363\u001b[0m, in \u001b[0;36m_pydevd_bundle.pydevd_cython.SafeCallWrapper.__call__\u001b[1;34m()\u001b[0m\n",
            "File \u001b[1;32m_pydevd_bundle/pydevd_cython.pyx:662\u001b[0m, in \u001b[0;36m_pydevd_bundle.pydevd_cython.PyDBFrame.trace_dispatch\u001b[1;34m()\u001b[0m\n",
            "File \u001b[1;32m_pydevd_bundle/pydevd_cython.pyx:1087\u001b[0m, in \u001b[0;36m_pydevd_bundle.pydevd_cython.PyDBFrame.trace_dispatch\u001b[1;34m()\u001b[0m\n",
            "File \u001b[1;32m_pydevd_bundle/pydevd_cython.pyx:1078\u001b[0m, in \u001b[0;36m_pydevd_bundle.pydevd_cython.PyDBFrame.trace_dispatch\u001b[1;34m()\u001b[0m\n",
            "File \u001b[1;32m_pydevd_bundle/pydevd_cython.pyx:297\u001b[0m, in \u001b[0;36m_pydevd_bundle.pydevd_cython.PyDBFrame.do_wait_suspend\u001b[1;34m()\u001b[0m\n",
            "File \u001b[1;32mC:\\Python39\\lib\\site-packages\\debugpy\\_vendored\\pydevd\\pydevd.py:1976\u001b[0m, in \u001b[0;36mPyDB.do_wait_suspend\u001b[1;34m(self, thread, frame, event, arg, exception_type)\u001b[0m\n\u001b[0;32m   <a href='file:///c%3A/Python39/lib/site-packages/debugpy/_vendored/pydevd/pydevd.py?line=1972'>1973</a>\u001b[0m             from_this_thread\u001b[39m.\u001b[39mappend(frame_custom_thread_id)\n\u001b[0;32m   <a href='file:///c%3A/Python39/lib/site-packages/debugpy/_vendored/pydevd/pydevd.py?line=1974'>1975</a>\u001b[0m     \u001b[39mwith\u001b[39;00m \u001b[39mself\u001b[39m\u001b[39m.\u001b[39m_threads_suspended_single_notification\u001b[39m.\u001b[39mnotify_thread_suspended(thread_id, stop_reason):\n\u001b[1;32m-> <a href='file:///c%3A/Python39/lib/site-packages/debugpy/_vendored/pydevd/pydevd.py?line=1975'>1976</a>\u001b[0m         keep_suspended \u001b[39m=\u001b[39m \u001b[39mself\u001b[39;49m\u001b[39m.\u001b[39;49m_do_wait_suspend(thread, frame, event, arg, suspend_type, from_this_thread, frames_tracker)\n\u001b[0;32m   <a href='file:///c%3A/Python39/lib/site-packages/debugpy/_vendored/pydevd/pydevd.py?line=1977'>1978</a>\u001b[0m frames_list \u001b[39m=\u001b[39m \u001b[39mNone\u001b[39;00m\n\u001b[0;32m   <a href='file:///c%3A/Python39/lib/site-packages/debugpy/_vendored/pydevd/pydevd.py?line=1979'>1980</a>\u001b[0m \u001b[39mif\u001b[39;00m keep_suspended:\n\u001b[0;32m   <a href='file:///c%3A/Python39/lib/site-packages/debugpy/_vendored/pydevd/pydevd.py?line=1980'>1981</a>\u001b[0m     \u001b[39m# This means that we should pause again after a set next statement.\u001b[39;00m\n",
            "File \u001b[1;32mC:\\Python39\\lib\\site-packages\\debugpy\\_vendored\\pydevd\\pydevd.py:2011\u001b[0m, in \u001b[0;36mPyDB._do_wait_suspend\u001b[1;34m(self, thread, frame, event, arg, suspend_type, from_this_thread, frames_tracker)\u001b[0m\n\u001b[0;32m   <a href='file:///c%3A/Python39/lib/site-packages/debugpy/_vendored/pydevd/pydevd.py?line=2007'>2008</a>\u001b[0m         \u001b[39mself\u001b[39m\u001b[39m.\u001b[39m_call_mpl_hook()\n\u001b[0;32m   <a href='file:///c%3A/Python39/lib/site-packages/debugpy/_vendored/pydevd/pydevd.py?line=2009'>2010</a>\u001b[0m     \u001b[39mself\u001b[39m\u001b[39m.\u001b[39mprocess_internal_commands()\n\u001b[1;32m-> <a href='file:///c%3A/Python39/lib/site-packages/debugpy/_vendored/pydevd/pydevd.py?line=2010'>2011</a>\u001b[0m     time\u001b[39m.\u001b[39;49msleep(\u001b[39m0.01\u001b[39;49m)\n\u001b[0;32m   <a href='file:///c%3A/Python39/lib/site-packages/debugpy/_vendored/pydevd/pydevd.py?line=2012'>2013</a>\u001b[0m \u001b[39mself\u001b[39m\u001b[39m.\u001b[39mcancel_async_evaluation(get_current_thread_id(thread), \u001b[39mstr\u001b[39m(\u001b[39mid\u001b[39m(frame)))\n\u001b[0;32m   <a href='file:///c%3A/Python39/lib/site-packages/debugpy/_vendored/pydevd/pydevd.py?line=2014'>2015</a>\u001b[0m \u001b[39m# process any stepping instructions\u001b[39;00m\n",
            "\u001b[1;31mKeyboardInterrupt\u001b[0m: "
          ]
        }
      ],
      "source": [
        "new_template = \"\"\"\n",
        "Datos de Gravedad sobre: {nombre}\n",
        "-------------------------------------------------------------------------------\n",
        "Nombre del planeta: {planeta}\n",
        "Gravedad en {nombre}: {gravedad} m/s2\n",
        "\"\"\"\n",
        "print(new_template.format(nombre=nombre, planeta=planeta, gravedad=gravedad))\n",
        "\n",
        "# Unión de ambas cadenas"
      ]
    },
    {
      "cell_type": "markdown",
      "metadata": {},
      "source": [
        "Ahora usa información de una luna diferente para ver si la plantilla todavía funciona.\n",
        "\n",
        "Datos muestra: \n",
        "```\n",
        "planeta = 'Marte '\n",
        "gravedad  = 0.00143\n",
        "nombre = 'Ganímedes'\n",
        "```"
      ]
    },
    {
      "cell_type": "code",
      "execution_count": 32,
      "metadata": {},
      "outputs": [
        {
          "ename": "NameError",
          "evalue": "name 'planeta' is not defined",
          "output_type": "error",
          "traceback": [
            "\u001b[1;31m---------------------------------------------------------------------------\u001b[0m",
            "\u001b[1;31mNameError\u001b[0m                                 Traceback (most recent call last)",
            "\u001b[1;32mc:\\Users\\vidze\\Desktop\\CursoIntroPython-main\\katasmias\\Módulo4Katas.ipynb Cell 22'\u001b[0m in \u001b[0;36m<module>\u001b[1;34m\u001b[0m\n\u001b[1;32m----> <a href='vscode-notebook-cell:/c%3A/Users/vidze/Desktop/CursoIntroPython-main/katasmias/M%C3%B3dulo4Katas.ipynb#ch0000021?line=0'>1</a>\u001b[0m \u001b[39mprint\u001b[39m(new_template\u001b[39m.\u001b[39mformat(nombre\u001b[39m=\u001b[39mnombre, planeta\u001b[39m=\u001b[39mplaneta, gravedad\u001b[39m=\u001b[39mgravedad\u001b[39m*\u001b[39m\u001b[39m1000\u001b[39m))\n",
            "\u001b[1;31mNameError\u001b[0m: name 'planeta' is not defined"
          ]
        }
      ],
      "source": [
        "print(new_template.format(nombre=nombre, planeta=planeta, gravedad=gravedad*1000))\n",
        "# Comprueba la plantilla\n",
        "# print(nombre_plantilla)"
      ]
    },
    {
      "cell_type": "markdown",
      "metadata": {},
      "source": [
        "La salida no muestra información sobre Marte. Todavía muestra información sobre la Luna. Esto sucede porque las cadenas f están ansiosas en su evaluación, por lo que las variables una vez asignadas no se pueden reasignar. Para evitar este problema, vuelva a hacer la plantilla para utilizar .format():"
      ]
    },
    {
      "cell_type": "code",
      "execution_count": 33,
      "metadata": {},
      "outputs": [],
      "source": [
        "planeta = 'Marte '\n",
        "gravedad  = 0.00143\n",
        "nombre = 'Ganímedes'\n",
        "# Nueva plantilla"
      ]
    },
    {
      "cell_type": "markdown",
      "metadata": {},
      "source": [
        "Debido a que .format() no permite expresiones, la gravedad en Ganímedes es incorrecta. Asegúrese de que la operación se realiza fuera de la plantilla de formato e imprima de nuevo para ver el resultado de trabajo."
      ]
    },
    {
      "cell_type": "code",
      "execution_count": 34,
      "metadata": {},
      "outputs": [
        {
          "name": "stdout",
          "output_type": "stream",
          "text": [
            "\n",
            "Datos de Gravedad sobre: Ganímedes\n",
            "-------------------------------------------------------------------------------\n",
            "Nombre del planeta: Marte \n",
            "Gravedad en Ganímedes: 1.4300000000000002 m/s2\n",
            "\n"
          ]
        }
      ],
      "source": [
        "print(new_template.format(nombre=nombre, planeta=planeta, gravedad=gravedad*1000))\n",
        "# Pista: print(nueva_plantilla.format(variables))"
      ]
    },
    {
      "cell_type": "markdown",
      "metadata": {},
      "source": [
        "## Soluciones"
      ]
    },
    {
      "cell_type": "markdown",
      "metadata": {},
      "source": [
        "## Ejercicio 1"
      ]
    },
    {
      "cell_type": "code",
      "execution_count": null,
      "metadata": {},
      "outputs": [
        {
          "ename": "NameError",
          "evalue": "name 'text' is not defined",
          "output_type": "error",
          "traceback": [
            "\u001b[1;31m---------------------------------------------------------------------------\u001b[0m",
            "\u001b[1;31mNameError\u001b[0m                                 Traceback (most recent call last)",
            "\u001b[1;32mc:\\Users\\vidze\\Desktop\\CursoIntroPython-main\\katasmias\\Módulo4Katas.ipynb Cell 29'\u001b[0m in \u001b[0;36m<module>\u001b[1;34m\u001b[0m\n\u001b[0;32m      <a href='vscode-notebook-cell:/c%3A/Users/vidze/Desktop/CursoIntroPython-main/katasmias/M%C3%B3dulo4Katas.ipynb#ch0000028?line=0'>1</a>\u001b[0m \u001b[39m# Divide el texto\u001b[39;00m\n\u001b[1;32m----> <a href='vscode-notebook-cell:/c%3A/Users/vidze/Desktop/CursoIntroPython-main/katasmias/M%C3%B3dulo4Katas.ipynb#ch0000028?line=1'>2</a>\u001b[0m text_parts \u001b[39m=\u001b[39m text\u001b[39m.\u001b[39msplit(\u001b[39m'\u001b[39m\u001b[39m. \u001b[39m\u001b[39m'\u001b[39m)\n\u001b[0;32m      <a href='vscode-notebook-cell:/c%3A/Users/vidze/Desktop/CursoIntroPython-main/katasmias/M%C3%B3dulo4Katas.ipynb#ch0000028?line=2'>3</a>\u001b[0m text_parts\n",
            "\u001b[1;31mNameError\u001b[0m: name 'text' is not defined"
          ]
        }
      ],
      "source": [
        "# Divide el texto\n",
        "text_parts = text.split('. ')\n",
        "text_parts"
      ]
    },
    {
      "cell_type": "code",
      "execution_count": null,
      "metadata": {},
      "outputs": [],
      "source": [
        "# Palabras clave\n",
        "key_words = [\"average\", \"temperature\", \"distance\"]"
      ]
    },
    {
      "cell_type": "code",
      "execution_count": null,
      "metadata": {},
      "outputs": [],
      "source": [
        "# Ciclo for para recorrer la cadena\n",
        "for sentence in text_parts:\n",
        "    for key_word in key_words:\n",
        "        if key_word in sentence:\n",
        "            print(sentence)\n",
        "            break"
      ]
    },
    {
      "cell_type": "code",
      "execution_count": null,
      "metadata": {},
      "outputs": [],
      "source": [
        "# Ciclo para cambiar C a Celsius\n",
        "for sentence in text_parts:\n",
        "    for key_word in key_words:\n",
        "        if key_word in sentence:\n",
        "            print(sentence.replace(' C', ' Celsius'))\n",
        "            break"
      ]
    },
    {
      "cell_type": "markdown",
      "metadata": {},
      "source": [
        "## Ejercicio 2"
      ]
    },
    {
      "cell_type": "code",
      "execution_count": null,
      "metadata": {},
      "outputs": [],
      "source": [
        "# Datos con los que vamos a trabajar\n",
        "\n",
        "planeta = 'Marte '\n",
        "gravedad  = 0.00143\n",
        "nombre = 'Ganímedes'"
      ]
    },
    {
      "cell_type": "code",
      "execution_count": null,
      "metadata": {},
      "outputs": [
        {
          "ename": "NameError",
          "evalue": "name 'nombre' is not defined",
          "output_type": "error",
          "traceback": [
            "\u001b[1;31m---------------------------------------------------------------------------\u001b[0m",
            "\u001b[1;31mNameError\u001b[0m                                 Traceback (most recent call last)",
            "\u001b[1;32mc:\\Users\\vidze\\Desktop\\CursoIntroPython-main\\katasmias\\Módulo4Katas.ipynb Cell 35'\u001b[0m in \u001b[0;36m<module>\u001b[1;34m\u001b[0m\n\u001b[0;32m      <a href='vscode-notebook-cell:/c%3A/Users/vidze/Desktop/CursoIntroPython-main/katasmias/M%C3%B3dulo4Katas.ipynb#ch0000034?line=0'>1</a>\u001b[0m \u001b[39m# Creamos el título\u001b[39;00m\n\u001b[1;32m----> <a href='vscode-notebook-cell:/c%3A/Users/vidze/Desktop/CursoIntroPython-main/katasmias/M%C3%B3dulo4Katas.ipynb#ch0000034?line=1'>2</a>\u001b[0m title \u001b[39m=\u001b[39m \u001b[39mf\u001b[39m\u001b[39m'\u001b[39m\u001b[39mdatos de gravedad sobre \u001b[39m\u001b[39m{\u001b[39;00mnombre\u001b[39m}\u001b[39;00m\u001b[39m'\u001b[39m\n",
            "\u001b[1;31mNameError\u001b[0m: name 'nombre' is not defined"
          ]
        }
      ],
      "source": [
        "# Creamos el título\n",
        "title = f'datos de gravedad sobre {nombre}'"
      ]
    },
    {
      "cell_type": "code",
      "execution_count": null,
      "metadata": {},
      "outputs": [
        {
          "ename": "NameError",
          "evalue": "name 'planeta' is not defined",
          "output_type": "error",
          "traceback": [
            "\u001b[1;31m---------------------------------------------------------------------------\u001b[0m",
            "\u001b[1;31mNameError\u001b[0m                                 Traceback (most recent call last)",
            "\u001b[1;32mc:\\Users\\vidze\\Desktop\\CursoIntroPython-main\\katasmias\\Módulo4Katas.ipynb Cell 36'\u001b[0m in \u001b[0;36m<module>\u001b[1;34m\u001b[0m\n\u001b[0;32m      <a href='vscode-notebook-cell:/c%3A/Users/vidze/Desktop/CursoIntroPython-main/katasmias/M%C3%B3dulo4Katas.ipynb#ch0000035?line=0'>1</a>\u001b[0m \u001b[39m# Creamos la plantilla\u001b[39;00m\n\u001b[0;32m      <a href='vscode-notebook-cell:/c%3A/Users/vidze/Desktop/CursoIntroPython-main/katasmias/M%C3%B3dulo4Katas.ipynb#ch0000035?line=1'>2</a>\u001b[0m hechos \u001b[39m=\u001b[39m \u001b[39mf\u001b[39m\u001b[39m\"\"\"\u001b[39m\u001b[39m{\u001b[39;00m\u001b[39m'\u001b[39m\u001b[39m-\u001b[39m\u001b[39m'\u001b[39m\u001b[39m*\u001b[39m\u001b[39m80\u001b[39m\u001b[39m}\u001b[39;00m\u001b[39m \u001b[39m\n\u001b[1;32m----> <a href='vscode-notebook-cell:/c%3A/Users/vidze/Desktop/CursoIntroPython-main/katasmias/M%C3%B3dulo4Katas.ipynb#ch0000035?line=2'>3</a>\u001b[0m \u001b[39mNombre del planeta: \u001b[39m\u001b[39m{\u001b[39;00mplaneta\u001b[39m}\u001b[39;00m\u001b[39m \u001b[39m\n\u001b[0;32m      <a href='vscode-notebook-cell:/c%3A/Users/vidze/Desktop/CursoIntroPython-main/katasmias/M%C3%B3dulo4Katas.ipynb#ch0000035?line=3'>4</a>\u001b[0m \u001b[39mGravedad en \u001b[39m\u001b[39m{\u001b[39;00mnombre\u001b[39m}\u001b[39;00m\u001b[39m: \u001b[39m\u001b[39m{\u001b[39;00mgravedad \u001b[39m*\u001b[39m \u001b[39m1000\u001b[39m\u001b[39m}\u001b[39;00m\u001b[39m m/s2 \u001b[39m\n\u001b[0;32m      <a href='vscode-notebook-cell:/c%3A/Users/vidze/Desktop/CursoIntroPython-main/katasmias/M%C3%B3dulo4Katas.ipynb#ch0000035?line=4'>5</a>\u001b[0m \u001b[39m\"\"\"\u001b[39m\n",
            "\u001b[1;31mNameError\u001b[0m: name 'planeta' is not defined"
          ]
        }
      ],
      "source": [
        "# Creamos la plantilla\n",
        "hechos = f\"\"\"{'-'*80} \n",
        "Nombre del planeta: {planeta} \n",
        "Gravedad en {nombre}: {gravedad * 1000} m/s2 \n",
        "\"\"\""
      ]
    },
    {
      "cell_type": "code",
      "execution_count": null,
      "metadata": {},
      "outputs": [],
      "source": [
        "# Unión de ambas cadenas\n",
        "template = f\"\"\"{title.title()} \n",
        "{hechos} \n",
        "\"\"\" \n",
        "print(hechos)"
      ]
    },
    {
      "cell_type": "code",
      "execution_count": null,
      "metadata": {},
      "outputs": [],
      "source": [
        "# Nuevos datos muestra\n",
        "planeta = 'Marte '\n",
        "gravedad  = 0.00143\n",
        "nombre = 'Ganímedes'"
      ]
    },
    {
      "cell_type": "code",
      "execution_count": null,
      "metadata": {},
      "outputs": [],
      "source": [
        "# Comprobamos la plantilla\n",
        "print(hechos)"
      ]
    },
    {
      "cell_type": "code",
      "execution_count": null,
      "metadata": {},
      "outputs": [
        {
          "ename": "NameError",
          "evalue": "name 'planeta' is not defined",
          "output_type": "error",
          "traceback": [
            "\u001b[1;31m---------------------------------------------------------------------------\u001b[0m",
            "\u001b[1;31mNameError\u001b[0m                                 Traceback (most recent call last)",
            "\u001b[1;32mc:\\Users\\vidze\\Desktop\\CursoIntroPython-main\\katasmias\\Módulo4Katas.ipynb Cell 40'\u001b[0m in \u001b[0;36m<module>\u001b[1;34m\u001b[0m\n\u001b[0;32m      <a href='vscode-notebook-cell:/c%3A/Users/vidze/Desktop/CursoIntroPython-main/katasmias/M%C3%B3dulo4Katas.ipynb#ch0000039?line=0'>1</a>\u001b[0m new_template \u001b[39m=\u001b[39m \u001b[39m\"\"\"\u001b[39m\n\u001b[0;32m      <a href='vscode-notebook-cell:/c%3A/Users/vidze/Desktop/CursoIntroPython-main/katasmias/M%C3%B3dulo4Katas.ipynb#ch0000039?line=1'>2</a>\u001b[0m \u001b[39mDatos de Gravedad sobre: \u001b[39m\u001b[39m{nombre}\u001b[39;00m\n\u001b[0;32m      <a href='vscode-notebook-cell:/c%3A/Users/vidze/Desktop/CursoIntroPython-main/katasmias/M%C3%B3dulo4Katas.ipynb#ch0000039?line=2'>3</a>\u001b[0m \u001b[39m-------------------------------------------------------------------------------\u001b[39m\n\u001b[0;32m      <a href='vscode-notebook-cell:/c%3A/Users/vidze/Desktop/CursoIntroPython-main/katasmias/M%C3%B3dulo4Katas.ipynb#ch0000039?line=3'>4</a>\u001b[0m \u001b[39mNombre del planeta: \u001b[39m\u001b[39m{planeta}\u001b[39;00m\n\u001b[0;32m      <a href='vscode-notebook-cell:/c%3A/Users/vidze/Desktop/CursoIntroPython-main/katasmias/M%C3%B3dulo4Katas.ipynb#ch0000039?line=4'>5</a>\u001b[0m \u001b[39mGravedad en \u001b[39m\u001b[39m{nombre}\u001b[39;00m\u001b[39m: \u001b[39m\u001b[39m{gravedad}\u001b[39;00m\u001b[39m m/s2\u001b[39m\n\u001b[0;32m      <a href='vscode-notebook-cell:/c%3A/Users/vidze/Desktop/CursoIntroPython-main/katasmias/M%C3%B3dulo4Katas.ipynb#ch0000039?line=5'>6</a>\u001b[0m \u001b[39m\"\"\"\u001b[39m\n\u001b[1;32m----> <a href='vscode-notebook-cell:/c%3A/Users/vidze/Desktop/CursoIntroPython-main/katasmias/M%C3%B3dulo4Katas.ipynb#ch0000039?line=6'>7</a>\u001b[0m \u001b[39mprint\u001b[39m(new_template\u001b[39m.\u001b[39mformat(nombre\u001b[39m=\u001b[39mnombre, planeta\u001b[39m=\u001b[39mplaneta, gravedad\u001b[39m=\u001b[39mgravedad))\n",
            "\u001b[1;31mNameError\u001b[0m: name 'planeta' is not defined"
          ]
        }
      ],
      "source": [
        "new_template = \"\"\"\n",
        "Datos de Gravedad sobre: {nombre}\n",
        "-------------------------------------------------------------------------------\n",
        "Nombre del planeta: {planeta}\n",
        "Gravedad en {nombre}: {gravedad} m/s2\n",
        "\"\"\"\n",
        "print(new_template.format(nombre=nombre, planeta=planeta, gravedad=gravedad))"
      ]
    },
    {
      "cell_type": "code",
      "execution_count": null,
      "metadata": {},
      "outputs": [],
      "source": [
        "# Pista: print(nueva_plantilla.format(variables))\n",
        "print(new_template.format(nombre=nombre, planeta=planeta, gravedad=gravedad*1000))"
      ]
    },
    {
      "cell_type": "markdown",
      "metadata": {},
      "source": [
        "Curso Propedútico de Python para Launch X - Innovacción Virtual.\n",
        "\n",
        "Material desarrollado con base en los contenidos de MSLearn y la metáfora de LaunchX, traducción e implementación por: Fernanda Ochoa - Learning Producer de LaunchX.\n",
        "\n",
        "Redes:\n",
        "* GitHub: [FernandaOchoa](https://github.com/FernandaOchoa)\n",
        "* Twitter: [@imonsh](https://twitter.com/imonsh)\n",
        "* Instagram: [fherz8a](https://www.instagram.com/fherz8a/)"
      ]
    }
  ],
  "metadata": {
    "interpreter": {
      "hash": "502cd6c3b6c9e666d195e1caff9d64ea12bf644e547a4c8fae84812082c54b6f"
    },
    "kernel_info": {
      "name": "conda-env-py37_default-py"
    },
    "kernelspec": {
      "display_name": "py37_default",
      "language": "python",
      "name": "python3"
    },
    "language_info": {
      "codemirror_mode": {
        "name": "ipython",
        "version": 3
      },
      "file_extension": ".py",
      "mimetype": "text/x-python",
      "name": "python",
      "nbconvert_exporter": "python",
      "pygments_lexer": "ipython3",
      "version": "3.9.1"
    },
    "nteract": {
      "version": "nteract-front-end@1.0.0"
    },
    "orig_nbformat": 4
  },
  "nbformat": 4,
  "nbformat_minor": 2
}
